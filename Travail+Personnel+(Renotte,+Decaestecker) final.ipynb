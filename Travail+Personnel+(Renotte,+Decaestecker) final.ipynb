{
 "cells": [
  {
   "cell_type": "markdown",
   "metadata": {},
   "source": [
    "## Travail personnel"
   ]
  },
  {
   "cell_type": "markdown",
   "metadata": {},
   "source": [
    "On commence par importer les modules Python nécessaires :"
   ]
  },
  {
   "cell_type": "code",
   "execution_count": 4,
   "metadata": {
    "collapsed": true
   },
   "outputs": [],
   "source": [
    "import numpy as np\n",
    "import scipy\n",
    "from scipy import linalg\n",
    "from matplotlib import pyplot\n",
    "%matplotlib inline"
   ]
  },
  {
   "cell_type": "markdown",
   "metadata": {},
   "source": [
    "Afin de résoudre l'équation, on peut introduire une grille 1D comme suit :"
   ]
  },
  {
   "cell_type": "code",
   "execution_count": 6,
   "metadata": {},
   "outputs": [],
   "source": [
    "N=101\n",
    "L=1.0\n",
    "y=np.linspace(-L,L,N)\n",
    "dy=2*L/(N-1)"
   ]
  },
  {
   "cell_type": "markdown",
   "metadata": {},
   "source": [
    "**Question 1: (2 points)**\n",
    "\n",
    "Pour $\\hat{v}'$, le problème contient 4 conditions aux bords. Les conditions du type Dirichlet se traduisent par: v[0]=0 et v[N-1]=0.\n",
    "\n",
    "En vous servant du lien, https://en.wikipedia.org/wiki/Finite_difference_coefficient, déterminer comment se traduisent les conditions du type von Neumann $\\frac{\\partial v}{\\partial y}(y=-1)=\\frac{\\partial v}{\\partial y}(y=1)=0$ si on adopte une \"forward finite difference\" du second ordre pour la dérivée première sur le bord $y=-1$ et une \"backward finite difference\" du second ordre pour la dérivée première sur le bord $y=1$."
   ]
  },
  {
   "cell_type": "markdown",
   "metadata": {},
   "source": [
    "**Réponse:**\n",
    "\n",
    "\n",
    "En adoptant  une \"forward finite difference\" du second ordre pour la dérivée première sur le bord $y=-1$ on obtient l'expression suivante:\n",
    "\n",
    "<p>&nbsp;</p>\n",
    "\n",
    "<center><span style=\"font-size:1.3em;\"> $\\frac{\\partial v}{\\partial y}(y=-1)\\approx\\frac{-\\frac{3}{2}v[0] \\: + \\:     2v[1] \\: -\\:\\frac{1}{2}v[2] }{h_{y}} + O\\left(h_{y}^2  \\right)=0$ </span></center>\n",
    "<p>&nbsp;</p>\n",
    "\n",
    "Pour la dérivée première sur le bord $y=1$ en \"backward finite difference\" du second ordre on obtient l'expression:\n",
    "<p>&nbsp;</p>\n",
    "\n",
    "<center><span style=\"font-size:1.3em;\"> $\\frac{\\partial v}{\\partial y}(y=1)\\approx\\frac{\\frac{3}{2}v[N-1]\\: - \\:2v[N-2] \\: +\\:\\frac{1}{2}v[N-3] }{h_{y}} + O\\left(h_{y}^2  \\right)=0$ </span></center>\n",
    "<p>&nbsp;</p>\n",
    "Les conditions de  Dirichlet $v[0]=0=v[N-1]$ nous permettent alors d'obtenir les relations suivantes:\n",
    "<p>&nbsp;</p>\n",
    "<center><span style=\"font-size:1.3em;\"> $\\frac{0 \\: + \\: 2v[1] \\: - \\: \\frac{1}{2}v[2] }{h_{y}} =0$ </span></center>\n",
    "<p>&nbsp;</p>\n",
    "<center><span style=\"font-size:1.3em;\"> $\\frac{0\\:  - \\: 2v[N-2] \\: + \\: \\frac{1}{2}v[N-3] }{h_{y}} =0$ </span></center> \n",
    "\n",
    "c'est-à-dire\n",
    "<p>&nbsp;</p>\n",
    "\n",
    "<center><span style=\"font-size:1.1em;\"> $v[1]=\\frac{1}{4}v[2] $ </span></center>\n",
    "<p>&nbsp;</p>\n",
    "                   \n",
    "<center><span style=\"font-size:1.1em;\"> $v[N-2]=\\frac{1}{4}v[N-3] $ </span></center>"
   ]
  },
  {
   "cell_type": "markdown",
   "metadata": {},
   "source": [
    "De la question précédente, on déduit que la discrétisation de $\\hat{v}'$ ne contient que $N-4$ valeurs indépendantes et qu'on peut dès lors définir numériquement:"
   ]
  },
  {
   "cell_type": "code",
   "execution_count": 8,
   "metadata": {},
   "outputs": [],
   "source": [
    "v=np.empty(N-4)"
   ]
  },
  {
   "cell_type": "markdown",
   "metadata": {},
   "source": [
    "**Question 2: (3 points)**\n",
    "\n",
    "En tenant compte de votre réponse à la question 1, compléter la routine suivante afin qu'elle retourne une discrétisation de l'opérateur $D^2$ du type \"central finite difference\" valable à l'ordre 2 et qui agit sur les valeurs indépendantes de ${\\hat v}'$."
   ]
  },
  {
   "cell_type": "markdown",
   "metadata": {},
   "source": [
    "**Réponse:**\n",
    "\n",
    "La discrétisation voulue est \n",
    "<center><span style=\"font-size:1.5em;\"> $\\frac{\\partial^2 v[i]}{\\partial y^2}\\approx\\frac{v[i-1] \\: -\\: 2v[i] \\: + \\:v[i+1]}{h_{y}^2}$  </span></center>\n",
    "<p>&nbsp;</p>\n",
    "Elle est applicable en tout indice de v, sauf en v[0] et en v[N-1] ou nous devons utiliser les relations obtenues précédemment, on obtient ainsi\n",
    "<p>&nbsp;</p>\n",
    "<center><span style=\"font-size:1.5em;\"> $\\frac{\\partial^2 v[0]}{\\partial y^2}\\approx\\frac{\\frac{1}{4}v[0] \\: - \\: 2v[0] \\: + \\: v[1]}{h_{y}^2}=\\frac{\\frac{-7}{4}v[0] \\: + \\:v[1]}{h_{y}^2}$  </span></center> \n",
    "et\n",
    "<center><span style=\"font-size:1.5em;\"> $\\frac{\\partial^2 v[N-1]}{\\partial y^2}\\approx\\frac{\\frac{1}{4}v[N-1] \\: - \\: 2v[N-1] \\: + \\: v[N-2]}{h_{y}^2}=\\frac{\\frac{-7}{4}v[N-1] \\: + \\: v[N-2]}{h_{y}^2}$  </span></center> \n",
    "\n",
    "\n",
    "Pour évaluer la dérivée simultanément en plusieurs point d'une fonction discrétisée  on utilise la représentation matricielle de $D^{2}$ en l'appliquant au vecteur contenant les dits points. Dans notre cas on a donc:\n",
    "\n",
    "\n",
    "\\begin{equation*}\n",
    "D^{2}\\vec{v} = \\frac{1}{h_{y}^2} \n",
    "\\begin{pmatrix}\n",
    "-\\frac{7}{4} & 1 & & &\\Huge 0\\\\\n",
    "1 & -2 & 1 & & \\\\\n",
    "  & \\ddots & \\ddots & \\ddots & \\\\\n",
    " & & 1 & -2 & 1  \\\\  \n",
    "\\Huge 0 & & & 1 & \\frac{-7}{4} \n",
    "\\end{pmatrix}\n",
    "\\vec{v}\n",
    "\\end{equation*}"
   ]
  },
  {
   "cell_type": "code",
   "execution_count": 9,
   "metadata": {
    "collapsed": true
   },
   "outputs": [],
   "source": [
    "# Operateur dérivée seconde de y agissant sur v   \n",
    "def D2_v(N,dy):\n",
    "    \n",
    "    # diagonale de l'opérateur.\n",
    "    D = np.diag((-2.0) * np.ones(N-4))     \n",
    "    # diagonale \"supérieure\" de l'opérateur.\n",
    "    U = np.diag(np.ones(N - 5), k=1)\n",
    "    # diagonale \"inférieure\" de l'opérateur.\n",
    "    L = np.diag(np.ones(N - 5), k=-1)\n",
    "    \n",
    "    D2 = D + U + L\n",
    "\n",
    "    #  conditions de Neumann  \n",
    "    D2[-1, -1] = (-7.0/4.0) \n",
    "    D2[0, 0] = (-7.0/4.0) \n",
    "    \n",
    "    D2 = D2/(dy**2)  \n",
    "    return D2"
   ]
  },
  {
   "cell_type": "markdown",
   "metadata": {},
   "source": [
    "**Question 3: (3 points)** \n",
    "\n",
    "Faites de même pour l'opérateur de dérivée 4ème, $D^4 = \\frac{\\partial^4}{\\partial y^4}$ en complétant la routine suivante afin qu'elle retourne une discrétisation de l'opérateur $D^4$ du type \"central finite difference\" valable à l'ordre 2 et qui agit sur les valeurs indépendantes de ${\\hat v}'$."
   ]
  },
  {
   "cell_type": "markdown",
   "metadata": {},
   "source": [
    "**Réponse:**\n",
    "\n",
    "La discrétisation voulue est \n",
    "<center><span style=\"font-size:1.5em;\"> $\\frac{\\partial^4 v[i]}{\\partial y^4}\\approx\\frac{v[i-2] \\: - \\: 4v[i-1] \\: + \\: 6v[i] \\: - \\: 4v[i+1] \\: + \\: v[i+2]}{h_{y}^2}$  </span></center>\n",
    "<p>&nbsp;</p>\n",
    "\n",
    "Elle est applicable directement en tout indice de v, sauf en v[0],v[1],v[N-1]et v[N-2] où nous devons utiliser les relations obtenues précédemment, on obtient ainsi \n",
    "<p>&nbsp;</p>\n",
    "\n",
    "<center><span style=\"font-size:1.5em;\"> $\\frac{\\partial^4 v[0]}{\\partial y^4}\\approx\\frac{0 \\:  - \\: 4\\frac{1}{4}v[0] \\: + \\: 6v[0] \\: - \\: 4v[1] \\: + \\: v[2]}{h_{y}^4}=\\frac{5v[0] \\: -4v[1] \\: + \\: v[2]}{h_{y}^4}$  </span></center> \n",
    "<center><span style=\"font-size:1.5em;\"> $\\frac{\\partial^4 v[1]}{\\partial y^4}\\approx\\frac{\\frac{1}{4}v[0] \\: - \\: 4v[0] \\: + \\: 6v[1] \\: - \\: 4v[2] \\: + \\: v[3]}{h_{y}^4}=\\frac{-\\frac{15}{4}v[0] \\: + \\: 6v[1] \\: - \\: 4v[2] \\: + \\: v[3]}{h_{y}^4}$  </span></center>\n",
    "\n",
    "<center><span style=\"font-size:1.5em;\"> $\\frac{\\partial^4 v[N-1]}{\\partial y^4}\\approx\\frac{v[N-3] \\: - \\: 4v[N-2] \\: + \\: 6v[N-1] \\: - \\: 4\\frac{1}{4}v[N-1] \\: + \\: 0}{h_{y}^4}=\\frac{v[N-3] \\: - \\: 4v[N-2] \\: + \\: 5v[N-1]}{h_{y}^4}$  </span></center> \n",
    "<center><span style=\"font-size:1.5em;\"> $\\frac{\\partial^4 v[N-2]}{\\partial y^4}\\approx\\frac{v[N-4] \\: - \\: 4v[N-3] \\: + \\: 6v[N-2] \\: - \\: 4v[N-1] \\: + \\: \\frac{1}{4}v[N-1]}{h_{y}^4}=\\frac{v[N-4] \\: -  \\: 4v[N-3] \\: + \\: 6v[N-2] \\: - \\: \\frac{15}{4}v[N-1]}{h_{y}^4}$  </span></center>\n",
    "\n",
    "<p>&nbsp;</p>\n",
    "\n",
    "\n",
    "La représentation matricielle donne ici:\n",
    "\n",
    "\n",
    "\\begin{equation*}\n",
    "D^{4}\\vec{v} = \\frac{1}{h_{y}^4} \n",
    "\\begin{pmatrix}\n",
    "5 & -4 & 1 &  & & &\\Huge 0\\\\\n",
    "-\\frac{15}{4} & 6 & -4 & 1 & \\\\\n",
    " 1 & -4 & 6 & -4 & 1  & & \\\\\n",
    "  & \\ddots& \\ddots & \\ddots & \\ddots & \\ddots & \\\\  \n",
    "  & & 1 & -4 & 6 & -4 & 1\\\\  \n",
    " & & & 1 & -4 &  6 & -\\frac{15}{4}\\\\\n",
    "\\Huge 0 &  &  &  & 1 & -4 & 5\\\\\n",
    "\\end{pmatrix}\n",
    "\\vec{v}\n",
    "\\end{equation*}\n"
   ]
  },
  {
   "cell_type": "code",
   "execution_count": 10,
   "metadata": {
    "collapsed": true
   },
   "outputs": [],
   "source": [
    "# Operateur dérivée quatrième de y agissant sur v \n",
    "def D4_v(N,dy):\n",
    "    \n",
    "    # diagonale de l'opérateur.\n",
    "    D = np.diag(6.0 * np.ones(N-4))            \n",
    "    # diagonales \"supérieures\" de l'opérateur.\n",
    "    U = np.diag(-4.0 * np.ones(N - 5), k=1)\n",
    "    U2 = np.diag(np.ones(N - 6), k=2)\n",
    "    # diagonales \"inférieures\" de l'opérateur.\n",
    "    L = np.diag((-4.0) * np.ones(N - 5), k=-1)\n",
    "    L2 = np.diag(np.ones(N - 6), k=-2)        \n",
    "    \n",
    "    D4 = D + U + L + U2 + L2\n",
    "    \n",
    "    # conditions de Neumann  \n",
    "    D4[-1, -1] = 5.0 \n",
    "    D4[0, 0] = 5.0 \n",
    "    D4[1, 0] = -15.0/4.0\n",
    "    D4[-2, -1] = -15.0/4.0\n",
    "    D4 = D4/(dy**4) \n",
    "    return D4"
   ]
  },
  {
   "cell_type": "markdown",
   "metadata": {},
   "source": [
    "**Question 4: (4 points)** \n",
    "\n",
    "En vous servant des routines précédantes, créer une routine qui permet de construire l'opérateur $L$. "
   ]
  },
  {
   "cell_type": "markdown",
   "metadata": {},
   "source": [
    "**Réponse:**\n",
    "\n",
    "Dans l'expression de l'opérateur on retrouve $U''$ et $U$. Or, en un $y$ donné, $U=1-y^2$ et donc $U''=-2$. Pour appliquer l'opérateur sur un vecteur on représente donc $U$ comme une matrice diagonnale avec la valeur $1-y^2$ évaluée au y correspondant du vecteur. Les éléments $\\alpha$, $U''$ peuvent être mis sous forme de matrice diagonnale en répétant la même valeur sur la diagonnale, celle ci ne dépendant pas de $y$. Concernant l'inverse de l'opérateur $D^{2}-\\alpha^{2}$, étant donné que l'on a sa représentation matricielle il suffit de prendre l'inverse de celle-ci."
   ]
  },
  {
   "cell_type": "code",
   "execution_count": 13,
   "metadata": {
    "collapsed": true
   },
   "outputs": [],
   "source": [
    "\n",
    "# Operateur L\n",
    "def L_v(N,y,dy,R,alpha):\n",
    "    \n",
    "    #on créé les opérateurs D2 et D4 correspondant\n",
    "    D2= D2_v(N,dy)\n",
    "    D4= D4_v(N,dy)\n",
    "    #on met alpha sous forme de matrice diagonale avec alpha sur la diagonale\n",
    "    Ma= alpha*np.identity(N-4)\n",
    "    #on met y sous forme de matrice diagonale avec y sur la diagonale\n",
    "    My= np.diag(y)\n",
    "    #on définit la matrice identité\n",
    "    I = np.identity(N-4)\n",
    "    #on sépare L en deux facteurs pour plus de clareté et on calcule ensuite leur produit pour avoir L\n",
    "    La= -1j*alpha*np.matmul(I-My**2,D2-Ma**2) + 1j*(-2.0)*Ma + 1/R*(D4 - 2*(alpha**2)*D2 + (Ma**4))\n",
    "    #inversion de l'opérateur D2-Ma**2\n",
    "    Lb= np.linalg.inv(D2-Ma**2)\n",
    "    L = np.matmul(Lb,La)\n",
    "    return L  "
   ]
  },
  {
   "cell_type": "markdown",
   "metadata": {},
   "source": [
    "**Question 5: (2 points)** \n",
    "\n",
    "En utilisant un algortihme RK4 dans le temps (https://en.wikipedia.org/wiki/Runge–Kutta_methods#The_Runge–Kutta_method) et un pas de temps de $dt=0.01$, calculer la valeur de ${\\hat v}'$ en $y=0.5$ pour un temps final de $10s$ à partir de la condition initiale suivante,\n",
    "\n",
    "\\begin{align}\n",
    "{\\hat v}'(y) = 0.02*(1+cos(\\pi y))\n",
    "\\end{align}\n",
    "\n",
    "On choisit commme paramêtres, $R=500$ et $\\alpha=0.3$.\n",
    "\n",
    "*Solution: ${\\hat v}'(0.5)=0.00772852-0.01239437i$.*"
   ]
  },
  {
   "cell_type": "markdown",
   "metadata": {},
   "source": [
    "**Réponse:**\n"
   ]
  },
  {
   "cell_type": "code",
   "execution_count": 15,
   "metadata": {},
   "outputs": [
    {
     "name": "stdout",
     "output_type": "stream",
     "text": [
      "(0.00772852356078-0.0123943693824j)\n"
     ]
    }
   ],
   "source": [
    "\n",
    "#on implémente la méthode Runge Kutta d'ordre 4\n",
    "def RK4(v0,alpha):\n",
    "    v=np.copy(v0)\n",
    "    #On calcule L\n",
    "    L=L_v(N,y,dy,R,alpha)\n",
    "    k1=np.empty(N-4,dtype=complex)\n",
    "    k2=np.empty(N-4,dtype=complex)\n",
    "    k3=np.empty(N-4,dtype=complex)\n",
    "    k4=np.empty(N-4,dtype=complex)\n",
    "    #On répète 1000 fois la procédure car t/dt = 1000\n",
    "    for m in range(1000):\n",
    "        #On calcule... k1 = L.v\n",
    "        k1=dt*np.matmul(L,v)\n",
    "        #k2 = L.(v + (k1/2).dt) car k2 = dt.(L.(v/dt + k1/2))\n",
    "        k2=dt*np.matmul(L,v + 0.5*k1)\n",
    "        #k3 = L.(v + (k2/2).dt) car k3 = dt.L.(v/dt + k2/2)\n",
    "        k3=dt*np.matmul(L,v + 0.5*k2)  \n",
    "        #k4 = L.(v + k3.dt) car k4 = dt.L.(v/dt + k3)\n",
    "        k4=dt*np.matmul(L,v + k3)\n",
    "        #Donc on obtient notre v avec la formule...\n",
    "        v= v + (1.0/6.0)*(k1 + 2*k2 + 2*k3 + k4)\n",
    "    return v\n",
    "\n",
    "#on enlève temporairement les valeurs de y qui sont dépendantes des autres valeurs ou constantes\n",
    "y=np.linspace(-L+0.04,L-0.04,N-4)\n",
    "\n",
    "#On pose nos paramètres\n",
    "alpha=0.3\n",
    "R=500.0\n",
    "dt=0.01\n",
    "\n",
    "#On introduit les valeurs initiales\n",
    "v=np.empty(N-4)\n",
    "for i in range(N-4):    \n",
    "    v[i]=0.02*(1.0+np.cos(np.pi*y[i]))\n",
    "    \n",
    "solution=RK4(v,alpha)  \n",
    "\n",
    "#y=0.5 correspond à l'indice 73 du vecteur y modifié\n",
    "print(solution[73])\n",
    "    "
   ]
  },
  {
   "cell_type": "markdown",
   "metadata": {},
   "source": [
    "**Question 6: (1 point)** \n",
    "\n",
    "calculer le propagateur $X$ à l'instant $t=10$ pour les mêmes valeurs des paramètres que précédemment: $R=500$ et $\\alpha=0.3$. Utiliser à nouveau un algorithme RK4 dans le temps et un pas de temps $dt=0.01$."
   ]
  },
  {
   "cell_type": "markdown",
   "metadata": {},
   "source": [
    "**Réponse:**\n"
   ]
  },
  {
   "cell_type": "code",
   "execution_count": 31,
   "metadata": {
    "collapsed": true
   },
   "outputs": [],
   "source": [
    "#calcul du propagateur\n",
    "X=np.identity(N-4)\n",
    "Xt=RK4(X,alpha) \n"
   ]
  },
  {
   "cell_type": "markdown",
   "metadata": {},
   "source": [
    "**Question 7: (1 point)** \n",
    "\n",
    "Vérifier que le propagateur transforme bien la condition initiale de la question 5 en la solution que vous avez obtenue."
   ]
  },
  {
   "cell_type": "markdown",
   "metadata": {},
   "source": [
    "**Réponse:**\n"
   ]
  },
  {
   "cell_type": "code",
   "execution_count": 32,
   "metadata": {},
   "outputs": [
    {
     "name": "stdout",
     "output_type": "stream",
     "text": [
      "(0.00772852356078-0.0123943693824j)\n"
     ]
    }
   ],
   "source": [
    "#vérification\n",
    "solutionPropagateur=np.matmul(Xt,v)\n",
    "print(solutionPropagateur[73])"
   ]
  },
  {
   "cell_type": "markdown",
   "metadata": {},
   "source": [
    "**Question 8: (2 points)** \n",
    "\n",
    "En utilisant la fonction disponible dans numpy, effectuer la décomposition singulière du propagateur obtenu à la question 7 et calculer la plus grande des valeurs sigulières. Faire un graphique de la perturbation optimale correspondante (elle correspond au vecteur d'entrée associé à cette plus grande valeur singulière).\n",
    "\n",
    "*Solution: s=3.3042383*"
   ]
  },
  {
   "cell_type": "markdown",
   "metadata": {},
   "source": [
    "**Réponse:**\n"
   ]
  },
  {
   "cell_type": "code",
   "execution_count": 20,
   "metadata": {},
   "outputs": [
    {
     "name": "stdout",
     "output_type": "stream",
     "text": [
      "3.30423834148\n"
     ]
    }
   ],
   "source": [
    "#calcul valeur singulière max :\n",
    "\n",
    "#on décompose le propagateur et on obtient 3 vecteurs\n",
    "u,s,vh = np.linalg.svd(Xt)   \n",
    "#La  valeur sing. max. est donné dans s, on l'extrait en prenant la plus grande valeur avec np.max() \n",
    "ValeurSinguliereMax=np.max(s) \n",
    "print(ValeurSinguliereMax)\n",
    "        \n",
    "\n"
   ]
  },
  {
   "cell_type": "code",
   "execution_count": 24,
   "metadata": {},
   "outputs": [
    {
     "data": {
      "text/plain": [
       "<matplotlib.legend.Legend at 0x1fff5ee1208>"
      ]
     },
     "execution_count": 24,
     "metadata": {},
     "output_type": "execute_result"
    },
    {
     "data": {
      "image/png": "[encoded data removed]",
      "text/plain": [
       "<matplotlib.figure.Figure at 0x1fff5f046a0>"
      ]
     },
     "metadata": {},
     "output_type": "display_data"
    }
   ],
   "source": [
    "#Pour créer le graphique on trouve le vecteur où se trouve la valeur singulière maximale et on prend son conjugué\n",
    "indice=np.argmax(s)             \n",
    "v4=np.conj(vh[indice]) \n",
    "\n",
    "#On crée le graphique en de la partie réelle et imaginaire séparée:\n",
    "pyplot.figure(figsize=(6.0,6.0))\n",
    "pyplot.title('Perturbation Optimale (partie réelle)')\n",
    "pyplot.xlabel('y')\n",
    "pyplot.ylabel('amplification (partie réelle)')\n",
    "pyplot.grid()\n",
    "pyplot.plot(y,v4.real , color='C0', label='partie réelle')\n",
    "pyplot.plot(y,v4.imag,color='C1', label='partie imaginaire')\n",
    "pyplot.xlim(-1,1)\n",
    "pyplot.ylim(-0.15, 0.3);\n",
    "pyplot.legend()"
   ]
  },
  {
   "cell_type": "markdown",
   "metadata": {},
   "source": [
    "**Question 9: (2 points)** \n",
    "\n",
    "En faisant varier $\\alpha$ comme paramètre dans le propagateur, écrire un programme qui permet de déterminer la valeur de $\\alpha$ qui maximise l'amplification des perturbations à l'instant $t=10$ (toujours avec $R=500$) et en utilisant la même résolution et méthode numérique que précédemment. Faire un graphique de $s$ en fonction de $\\alpha$."
   ]
  },
  {
   "cell_type": "markdown",
   "metadata": {},
   "source": [
    "## **Réponse:**\n",
    "Compte tenu du sens physique de alpha on peut commencer par limiter la recherche de alpha qui maximise l'amplification des perturbations à des alpha positifs. En suite nous pouvons utiliser le graphique précédent pour se limiter à un intervalle qui semble contenir le seul maximum (en admettant que que l'amplifiction tend asymptotiquement à 0 avec alpha grandissant).\n",
    "Nous éssayons une méthode qui \"balaye\" les valeurs de alpha en diminuant progressivement la valeur ajoutée a alpha.\n",
    "Nous faison d'abord un graphique approximatif de s en fonction de $\\alpha$\n"
   ]
  },
  {
   "cell_type": "code",
   "execution_count": null,
   "metadata": {},
   "outputs": [],
   "source": [
    "#On écrit la fonction qui sort la perturbation max selon alpha\n",
    "def ValeurEnFonctionAlpha(alpha):\n",
    "    #On calcule d'abord la propagateur qui dépend de alpha\n",
    "    Xt=RK4(X,alpha)\n",
    "    #On le décompose\n",
    "    u,s,vh = np.linalg.svd(Xt)\n",
    "    #On prend la valeur max de s pour avoir la perturbation max\n",
    "    ValeurSinguliereMax=np.max(s)\n",
    "    return ValeurSinguliereMax\n",
    "\n",
    "#On prend des valeurs d'alpha entre 0 et 10 sur 40 points\n",
    "valeurAlpha=np.linspace(0,10,40)\n",
    "#On met les valeurs de s correspondantes dans le vecteur Y\n",
    "Y=[]\n",
    "for i in valeurAlpha:\n",
    "    Y.append(ValeurEnFonctionAlpha(i))\n",
    "#Et créé ainsi le graphique avec ces valeurs\n",
    "pyplot.figure(figsize=(6.0, 6.0))\n",
    "pyplot.title('Valeur singulière max en fonction de alpha ')\n",
    "pyplot.xlabel('alpha')\n",
    "pyplot.ylabel('Valeur singuliere max')\n",
    "pyplot.grid()\n",
    "pyplot.plot(valeurAlpha,Y , color='C0')\n",
    "pyplot.xlim(0,10)\n",
    "pyplot.ylim(0, 12)\n",
    "\n",
    "\n",
    "\n",
    "#On cherche le alpha qui maximise la valeur max de s, avec 5 décimales de précision\n",
    "def AlphaOpti():\n",
    "    #A la vue du graphique, on démarre le balayage des valeurs à 1,5\n",
    "    A=1.5\n",
    "    #On pose la première valeur de s à O pour pouvoir comparer\n",
    "    sA=0\n",
    "    Frag = 0\n",
    "    while Frag ==0:\n",
    "        #On calcule la valeur max de s pour un alpha auquel on ajoute 0.01\n",
    "        A = A+ 0.01\n",
    "        sAi = ValeurEnFonctionAlpha(A)\n",
    "        #Tant que la valeur de s est plus grande, on recommence la boucle\n",
    "        if sAi > sA:\n",
    "            sA = sAi\n",
    "        #Sinon on en ressort\n",
    "        else :\n",
    "            Frag = 1\n",
    "    #On revient au alpha précédent pour ne pas se tromper\n",
    "    A = A - 0.01\n",
    "    #On calcule la valeur de s correspondante por pouvoir la comparer aux autres\n",
    "    sA = ValeurEnFonctionAlpha(A)\n",
    "    #Et on recommence la démarche en rajoutant seulement 0.0001 à alpha, puis ensuite 0.00001\n",
    "    while Frag == 1:\n",
    "        A = A+0.0001\n",
    "        sAi = ValeurEnFonctionAlpha(A)\n",
    "\n",
    "        if sAi >sA:\n",
    "            sA = sAi\n",
    "        else:\n",
    "            Frag = 2\n",
    "    A = A - 0.0002\n",
    "    sA = ValeurEnFonctionAlpha(A)\n",
    "    while Frag == 2:\n",
    "        A = A + 0.00001\n",
    "        sAi = ValeurEnFonctionAlpha(A)        \n",
    "        if sAi >sA:\n",
    "            sA = sAi\n",
    "        else:\n",
    "            Frag = 3\n",
    "    #Le alpha qui maximise est l'avant-dernier A calculé \n",
    "    return (A-0.00001)\n",
    "\n",
    "print(AlphaOpti())"
   ]
  },
  {
   "cell_type": "markdown",
   "metadata": {},
   "source": []
  }
 ],
 "metadata": {
  "kernelspec": {
   "display_name": "Python 3",
   "language": "python",
   "name": "python3"
  },
  "language_info": {
   "codemirror_mode": {
    "name": "ipython",
    "version": 3
   },
   "file_extension": ".py",
   "mimetype": "text/x-python",
   "name": "python",
   "nbconvert_exporter": "python",
   "pygments_lexer": "ipython3",
   "version": "3.6.2"
  }
 },
 "nbformat": 4,
 "nbformat_minor": 2
}
